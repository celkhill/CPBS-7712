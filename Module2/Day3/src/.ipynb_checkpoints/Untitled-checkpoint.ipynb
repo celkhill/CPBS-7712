{
 "cells": [
  {
   "cell_type": "code",
   "execution_count": 1,
   "metadata": {},
   "outputs": [],
   "source": [
    "import numpy as np\n",
    "import pandas as pd\n",
    "from os import path,makedirs\n",
    "from pathlib import Path\n",
    "import matplotlib.pyplot as plt\n",
    "import sys\n",
    "import shelve\n",
    "import pprint"
   ]
  },
  {
   "cell_type": "code",
   "execution_count": 2,
   "metadata": {},
   "outputs": [],
   "source": [
    "def ReadFasta(filename):\n",
    "    with open(filename,'r') as f:\n",
    "        data = f.readlines()\n",
    "    return data"
   ]
  },
  {
   "cell_type": "code",
   "execution_count": 3,
   "metadata": {},
   "outputs": [],
   "source": [
    "def ParseReads(data):\n",
    "    reads = {}\n",
    "    for num in range(len(data)):\n",
    "        if data[num].startswith('>'):\n",
    "            key = data[num].rstrip() # remove newline char\n",
    "            val = data[num+1].rstrip() # remove newline char\n",
    "            reads[key] = val\n",
    "    return reads"
   ]
  },
  {
   "cell_type": "code",
   "execution_count": 4,
   "metadata": {},
   "outputs": [],
   "source": [
    "def ConvertToBinary(s):\n",
    "    out_string = np.array([])\n",
    "    for letter in s:\n",
    "        out_string = np.append(out_string,hash(letter))\n",
    "    return out_string"
   ]
  },
  {
   "cell_type": "code",
   "execution_count": 5,
   "metadata": {},
   "outputs": [],
   "source": [
    "class GraphNode():\n",
    "    def __init__(self,seq):\n",
    "        self.seq = seq\n",
    "        self.next = []\n",
    "        self.prev = []\n",
    "        self.freq = 1"
   ]
  },
  {
   "cell_type": "code",
   "execution_count": 6,
   "metadata": {},
   "outputs": [],
   "source": [
    "def construct_sequence_from_nodes(node_list):\n",
    "    out_sequence = ''.join([n.seq[0] for n in node_list[0:-1]])+node_list[-1].seq\n",
    "    return out_sequence"
   ]
  },
  {
   "cell_type": "code",
   "execution_count": 7,
   "metadata": {},
   "outputs": [],
   "source": [
    "class DBGraph():\n",
    "    pass"
   ]
  },
  {
   "cell_type": "code",
   "execution_count": 8,
   "metadata": {},
   "outputs": [],
   "source": [
    "def RemoveEdge(edge_list,edge_to_remove):\n",
    "    try:\n",
    "        edge_list.remove(edge_to_remove)\n",
    "    except ValueError:\n",
    "        print('Edge %s not found in list! Please check.')\n",
    "    return edge_list"
   ]
  },
  {
   "cell_type": "code",
   "execution_count": 9,
   "metadata": {},
   "outputs": [],
   "source": [
    "def SelectNextNode(current_node,node_table):\n",
    "    options = np.unique(current_node.next)\n",
    "    if len(options)>1:\n",
    "        #node degree of all our possible next nodes\n",
    "        possible_next_node_degrees = np.array([len(node_table[current_node.seq[1:]+x].next) for x in options])\n",
    "        #if none of them have any edges, just pick one at random, we will stop here anyways!\n",
    "        if not np.any(possible_next_node_degrees>0):\n",
    "            next_na = np.random.choice(options)\n",
    "        else:\n",
    "            #try to find ones that aren't bridges--have a degree of more than 1\n",
    "            try:\n",
    "                next_na = np.random.choice(options[np.where(possible_next_node_degrees>1)])\n",
    "            #if they are all bridges, then just pick any that aren't zero\n",
    "            except ValueError:\n",
    "                next_na = np.random.choice(options[np.where(possible_next_node_degrees>0)])\n",
    "    elif len(options) == 1:\n",
    "        next_na = options[0]\n",
    "    else:\n",
    "        next_na = None\n",
    "    return next_na"
   ]
  },
  {
   "cell_type": "code",
   "execution_count": 35,
   "metadata": {},
   "outputs": [],
   "source": [
    "# reads = ParseReads(ReadFasta('../data/READS.fasta'))\n",
    "# \n",
    "# h = np.histogram([len(x) for x in list(reads.values())],bins=100)\n",
    "# read_lengths = [len(x) for x in list(reads.values())]\n",
    "# plt.hist([len(x) for x in list(reads.values())],bins=100)\n",
    "# \n",
    "# %%time\n",
    "# #read and parse all our k-mers\n",
    "# kmersize = 27\n",
    "# node_table = {}\n",
    "# for read in reads.values():\n",
    "#     idx = 0;\n",
    "#     previousNode = None\n",
    "#     while idx<len(read)-kmersize+1:\n",
    "#         kmer = read[idx:kmersize+idx]\n",
    "#         kmer_1 = kmer[0:-1]\n",
    "#         kmer_2 = kmer[-1]\n",
    "#         if kmer_1 in node_table:#grab the existing node\n",
    "#             currentNode = node_table[kmer_1]\n",
    "#             #add one to the frequency\n",
    "#             currentNode.freq+=1\n",
    "#         else:#create new node\n",
    "#             currentNode = GraphNode(kmer_1)\n",
    "#         #add our next node\n",
    "#         currentNode.next.append(kmer_2)\n",
    "#         #add the previous node if its here\n",
    "#         if previousNode:\n",
    "#             currentNode.prev.append(previousNode)\n",
    "#         #save it to our node table!\n",
    "#         node_table[kmer_1] = currentNode\n",
    "#         #set our previous node for reversal of the graph\n",
    "#         previousNode = kmer_1[0]\n",
    "#         idx+=1\n",
    "# \n",
    "# outname = '../data/DeBruijneGraph'\n",
    "# graph = shelve.open(outname)\n",
    "# graph['node_table'] = node_table\n",
    "# graph['kmersize'] = kmersize\n",
    "# graph['reads'] = reads\n",
    "# graph.close()"
   ]
  },
  {
   "cell_type": "code",
   "execution_count": 10,
   "metadata": {},
   "outputs": [],
   "source": [
    "outname = '../data/DeBruijneGraph'\n",
    "graph = shelve.open(outname)\n",
    "node_table = graph['node_table']\n",
    "kmersize = graph['kmersize']\n",
    "reads = graph['reads']"
   ]
  },
  {
   "cell_type": "code",
   "execution_count": 11,
   "metadata": {},
   "outputs": [],
   "source": [
    "# read in our query\n",
    "query_seq = list(ParseReads(ReadFasta('../data/QUERY.fasta')).values())[0]"
   ]
  },
  {
   "cell_type": "code",
   "execution_count": 12,
   "metadata": {},
   "outputs": [],
   "source": [
    "# solve for our query sequence\n",
    "idx = 0\n",
    "solved_nodes = []\n",
    "removed_edges = []\n",
    "while idx<len(query_seq)-kmersize+2:#+2 because we need the end of the sequece, i.e. we have to dial ONE. NUMBER. HIGHER.\n",
    "    kmer_1 = query_seq[idx:kmersize+idx-1]\n",
    "    try:\n",
    "        cn = node_table[kmer_1]\n",
    "    except(KeyError):\n",
    "        raise ValueError('Kmer not found %s'%kmer_1)\n",
    "    #check that our next node solution is valid!\n",
    "    if len(query_seq)>(kmersize+idx):\n",
    "        next_node = query_seq[kmersize+idx-1] \n",
    "        if not next_node in cn.next:\n",
    "            raise ValueError('No solution found! Stopping at this sequence: %s'%construct_sequence_from_nodes(solved_nodes))\n",
    "        else:\n",
    "            #remove the edge!\n",
    "            removed_edges += RemoveEdge(cn.next,next_node)\n",
    "    solved_nodes.append(cn)    \n",
    "    idx+=1"
   ]
  },
  {
   "cell_type": "code",
   "execution_count": 13,
   "metadata": {},
   "outputs": [],
   "source": [
    "#extend our solution!\n",
    "cn = solved_nodes[-1]\n",
    "keep_looping = True\n",
    "while keep_looping:\n",
    "    next_na = SelectNextNode(cn, node_table)\n",
    "    #if we can't find a next node, stop looping\n",
    "    if next_na is None:\n",
    "        keep_looping = False\n",
    "    #if we can, look for it in the node table\n",
    "    else:\n",
    "        try:\n",
    "            next_node = node_table[cn.seq[1:]+next_na]\n",
    "        except KeyError:\n",
    "            print('Sequence %s not found in the node table!'%(cn.seq[1:]+next_na))\n",
    "            keep_looping = False\n",
    "        removed_edges += RemoveEdge(cn.next,next_na)\n",
    "        solved_nodes.append(cn)\n",
    "    if len(solved_nodes) == 5000:\n",
    "        keep_looping = False"
   ]
  },
  {
   "cell_type": "code",
   "execution_count": 17,
   "metadata": {},
   "outputs": [
    {
     "data": {
      "text/plain": [
       "<__main__.GraphNode at 0x20a0efcf850>"
      ]
     },
     "execution_count": 17,
     "metadata": {},
     "output_type": "execute_result"
    }
   ],
   "source": []
  },
  {
   "cell_type": "code",
   "execution_count": null,
   "metadata": {},
   "outputs": [],
   "source": []
  }
 ],
 "metadata": {
  "kernelspec": {
   "display_name": "Python 3",
   "language": "python",
   "name": "python3"
  },
  "language_info": {
   "codemirror_mode": {
    "name": "ipython",
    "version": 3
   },
   "file_extension": ".py",
   "mimetype": "text/x-python",
   "name": "python",
   "nbconvert_exporter": "python",
   "pygments_lexer": "ipython3",
   "version": "3.8.3"
  }
 },
 "nbformat": 4,
 "nbformat_minor": 4
}
