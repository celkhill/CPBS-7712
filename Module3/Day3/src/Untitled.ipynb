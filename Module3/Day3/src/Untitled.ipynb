{
 "cells": [
  {
   "cell_type": "code",
   "execution_count": 32,
   "metadata": {},
   "outputs": [],
   "source": [
    "from src.lib.FileIOUtils import LoadTableFromFile, ReadFasta\n",
    "from src.lib.CreateDBG import CreateKmersFromReads\n",
    "from src.lib.DeBruijnGraph import GraphNode\n",
    "from src.lib import DeBruijnGraph"
   ]
  },
  {
   "cell_type": "code",
   "execution_count": 34,
   "metadata": {},
   "outputs": [],
   "source": [
    "dbg = LoadTableFromFile('../analysis/kmer_22/DeBruijnGraph_kmer22.json',parse_json=True)"
   ]
  },
  {
   "cell_type": "code",
   "execution_count": 36,
   "metadata": {},
   "outputs": [],
   "source": [
    "total_edge_count = 0\n",
    "for key in dbg:\n",
    "    total_edge_count += len(dbg[key].next)"
   ]
  },
  {
   "cell_type": "code",
   "execution_count": null,
   "metadata": {},
   "outputs": [],
   "source": []
  },
  {
   "cell_type": "code",
   "execution_count": null,
   "metadata": {},
   "outputs": [],
   "source": []
  },
  {
   "cell_type": "code",
   "execution_count": 8,
   "metadata": {},
   "outputs": [
    {
     "data": {
      "text/plain": [
       "6808920"
      ]
     },
     "execution_count": 8,
     "metadata": {},
     "output_type": "execute_result"
    }
   ],
   "source": [
    "total_edge_count"
   ]
  },
  {
   "cell_type": "code",
   "execution_count": 39,
   "metadata": {},
   "outputs": [],
   "source": [
    "reads = ReadFasta('../data/READS.fasta')"
   ]
  },
  {
   "cell_type": "code",
   "execution_count": 40,
   "metadata": {},
   "outputs": [
    {
     "data": {
      "text/plain": [
       "124520"
      ]
     },
     "execution_count": 40,
     "metadata": {},
     "output_type": "execute_result"
    }
   ],
   "source": [
    "len(reads)"
   ]
  },
  {
   "cell_type": "code",
   "execution_count": 41,
   "metadata": {},
   "outputs": [],
   "source": [
    "total_read_length = 0\n",
    "for key in reads:\n",
    "    total_read_length += len(reads[key])"
   ]
  },
  {
   "cell_type": "code",
   "execution_count": 42,
   "metadata": {},
   "outputs": [],
   "source": [
    "kmers = CreateKmersFromReads(reads, 22)"
   ]
  },
  {
   "cell_type": "code",
   "execution_count": 39,
   "metadata": {},
   "outputs": [
    {
     "data": {
      "text/plain": [
       "13221684"
      ]
     },
     "execution_count": 39,
     "metadata": {},
     "output_type": "execute_result"
    }
   ],
   "source": [
    "len(kmers)"
   ]
  },
  {
   "cell_type": "code",
   "execution_count": 44,
   "metadata": {},
   "outputs": [],
   "source": [
    "possible_edges = total_read_length - (len(reads)*21)"
   ]
  },
  {
   "cell_type": "code",
   "execution_count": 45,
   "metadata": {},
   "outputs": [
    {
     "data": {
      "text/plain": [
       "1.9599253722272145"
      ]
     },
     "execution_count": 45,
     "metadata": {},
     "output_type": "execute_result"
    }
   ],
   "source": [
    "possible_edges/ total_edge_count"
   ]
  },
  {
   "cell_type": "code",
   "execution_count": 46,
   "metadata": {},
   "outputs": [],
   "source": [
    "import numpy as np"
   ]
  },
  {
   "cell_type": "code",
   "execution_count": 47,
   "metadata": {},
   "outputs": [],
   "source": [
    "km, edges = np.unique(kmers, return_counts = True)"
   ]
  },
  {
   "cell_type": "code",
   "execution_count": 52,
   "metadata": {},
   "outputs": [],
   "source": [
    "edge_hist = []\n",
    "for key in dbg:\n",
    "    edge_hist += [len(dbg[key].next)]"
   ]
  },
  {
   "cell_type": "code",
   "execution_count": 54,
   "metadata": {},
   "outputs": [],
   "source": [
    "before_corr_hist = np.histogram(edges, bins = 200)\n",
    "after_corr_hist = np.histogram(edge_hist, bins=200)"
   ]
  },
  {
   "cell_type": "code",
   "execution_count": 56,
   "metadata": {},
   "outputs": [],
   "source": [
    "from matplotlib import pyplot as plt"
   ]
  },
  {
   "cell_type": "code",
   "execution_count": 67,
   "metadata": {},
   "outputs": [
    {
     "data": {
      "text/plain": [
       "(array([4.34316e+05, 9.60200e+04, 2.95520e+04, 1.11510e+04, 6.98300e+03,\n",
       "        4.26700e+03, 3.88700e+03, 2.18300e+03, 1.65700e+03, 1.35400e+03,\n",
       "        1.15000e+03, 1.16900e+03, 8.11000e+02, 8.12000e+02, 7.03000e+02,\n",
       "        5.83000e+02, 6.80000e+02, 6.25000e+02, 5.38000e+02, 5.61000e+02,\n",
       "        4.13000e+02, 3.32000e+02, 2.66000e+02, 1.82000e+02, 2.28000e+02,\n",
       "        1.88000e+02, 9.10000e+01, 9.80000e+01, 8.60000e+01, 5.00000e+01,\n",
       "        5.50000e+01, 5.20000e+01, 1.42000e+02, 1.41000e+02, 5.20000e+01,\n",
       "        7.80000e+01, 1.13000e+02, 1.30000e+02, 8.60000e+01, 8.70000e+01,\n",
       "        9.80000e+01, 4.50000e+01, 6.40000e+01, 7.10000e+01, 4.90000e+01,\n",
       "        5.80000e+01, 5.30000e+01, 4.40000e+01, 3.40000e+01, 2.30000e+01,\n",
       "        1.40000e+01, 6.00000e+00, 4.00000e+00, 3.00000e+00, 0.00000e+00,\n",
       "        0.00000e+00, 1.00000e+00, 1.00000e+00, 1.00000e+00, 0.00000e+00,\n",
       "        1.00000e+00, 0.00000e+00, 0.00000e+00, 0.00000e+00, 0.00000e+00,\n",
       "        0.00000e+00, 0.00000e+00, 0.00000e+00, 0.00000e+00, 0.00000e+00,\n",
       "        0.00000e+00, 0.00000e+00, 0.00000e+00, 0.00000e+00, 0.00000e+00,\n",
       "        0.00000e+00, 0.00000e+00, 0.00000e+00, 0.00000e+00, 0.00000e+00,\n",
       "        0.00000e+00, 0.00000e+00, 0.00000e+00, 0.00000e+00, 0.00000e+00,\n",
       "        0.00000e+00, 0.00000e+00, 0.00000e+00, 0.00000e+00, 0.00000e+00,\n",
       "        0.00000e+00, 0.00000e+00, 0.00000e+00, 0.00000e+00, 1.00000e+00,\n",
       "        1.00000e+00, 1.00000e+00, 0.00000e+00, 0.00000e+00, 1.00000e+00]),\n",
       " array([  0.  ,   8.74,  17.48,  26.22,  34.96,  43.7 ,  52.44,  61.18,\n",
       "         69.92,  78.66,  87.4 ,  96.14, 104.88, 113.62, 122.36, 131.1 ,\n",
       "        139.84, 148.58, 157.32, 166.06, 174.8 , 183.54, 192.28, 201.02,\n",
       "        209.76, 218.5 , 227.24, 235.98, 244.72, 253.46, 262.2 , 270.94,\n",
       "        279.68, 288.42, 297.16, 305.9 , 314.64, 323.38, 332.12, 340.86,\n",
       "        349.6 , 358.34, 367.08, 375.82, 384.56, 393.3 , 402.04, 410.78,\n",
       "        419.52, 428.26, 437.  , 445.74, 454.48, 463.22, 471.96, 480.7 ,\n",
       "        489.44, 498.18, 506.92, 515.66, 524.4 , 533.14, 541.88, 550.62,\n",
       "        559.36, 568.1 , 576.84, 585.58, 594.32, 603.06, 611.8 , 620.54,\n",
       "        629.28, 638.02, 646.76, 655.5 , 664.24, 672.98, 681.72, 690.46,\n",
       "        699.2 , 707.94, 716.68, 725.42, 734.16, 742.9 , 751.64, 760.38,\n",
       "        769.12, 777.86, 786.6 , 795.34, 804.08, 812.82, 821.56, 830.3 ,\n",
       "        839.04, 847.78, 856.52, 865.26, 874.  ]),\n",
       " <a list of 100 Patch objects>)"
      ]
     },
     "execution_count": 67,
     "metadata": {},
     "output_type": "execute_result"
    },
    {
     "data": {
      "image/png": "[encoded data removed]",
      "text/plain": [
       "<Figure size 432x288 with 2 Axes>"
      ]
     },
     "metadata": {
      "needs_background": "light"
     },
     "output_type": "display_data"
    }
   ],
   "source": [
    "fig, ax = plt.subplots(1,2)\n",
    "ax[0].hist(edges, bins = 100)\n",
    "ax[1].hist(edge_hist, bins=100)"
   ]
  },
  {
   "cell_type": "code",
   "execution_count": 65,
   "metadata": {},
   "outputs": [
    {
     "data": {
      "text/plain": [
       "array([<matplotlib.axes._subplots.AxesSubplot object at 0x0000015F2365EF70>,\n",
       "       <matplotlib.axes._subplots.AxesSubplot object at 0x0000015F23369670>],\n",
       "      dtype=object)"
      ]
     },
     "execution_count": 65,
     "metadata": {},
     "output_type": "execute_result"
    }
   ],
   "source": []
  },
  {
   "cell_type": "code",
   "execution_count": null,
   "metadata": {},
   "outputs": [],
   "source": []
  }
 ],
 "metadata": {
  "kernelspec": {
   "display_name": "Python 3",
   "language": "python",
   "name": "python3"
  },
  "language_info": {
   "codemirror_mode": {
    "name": "ipython",
    "version": 3
   },
   "file_extension": ".py",
   "mimetype": "text/x-python",
   "name": "python",
   "nbconvert_exporter": "python",
   "pygments_lexer": "ipython3",
   "version": "3.8.3"
  }
 },
 "nbformat": 4,
 "nbformat_minor": 4
}
